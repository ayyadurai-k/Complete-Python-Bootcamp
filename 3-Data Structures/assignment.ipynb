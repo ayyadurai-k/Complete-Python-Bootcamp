{
 "cells": [
  {
   "cell_type": "code",
   "execution_count": null,
   "metadata": {},
   "outputs": [
    {
     "name": "stdout",
     "output_type": "stream",
     "text": [
      "[[1, 2, 3], [4, 5, 6], [7, 8, 9]]\n"
     ]
    }
   ],
   "source": [
    "matrix = []\n",
    "\n",
    "for i in range(3):\n",
    "    row = []\n",
    "    for j in range(3):\n",
    "        n = int(input(f\"Enter number for row {i+1} column {j+1} :\"))\n",
    "        row.append(n)\n",
    "    matrix.append(row)\n",
    "\n"
   ]
  },
  {
   "cell_type": "code",
   "execution_count": 4,
   "metadata": {},
   "outputs": [
    {
     "name": "stdout",
     "output_type": "stream",
     "text": [
      "[[1, 4, 7], [2, 5, 8], [3, 6, 9]]\n"
     ]
    }
   ],
   "source": [
    "# Find Transport of matrix\n",
    "\n",
    "transported_matrix = []\n",
    "\n",
    "for i in range(len(matrix)) :\n",
    "    row = []\n",
    "    for j in range(len(matrix)):\n",
    "        row.append(matrix[j][i])\n",
    "    transported_matrix.append(row)\n",
    "\n",
    "print(transported_matrix)\n",
    "    "
   ]
  },
  {
   "cell_type": "markdown",
   "metadata": {},
   "source": [
    "Flatten List"
   ]
  },
  {
   "cell_type": "code",
   "execution_count": 28,
   "metadata": {},
   "outputs": [],
   "source": [
    "import random\n",
    "\n",
    "def generate_random_nested_list(max_outer_length=10, max_inner_length=5):\n",
    "    outer_length = random.randint(0, max_outer_length)\n",
    "    nested_list = []\n",
    "    \n",
    "    for _ in range(outer_length):\n",
    "        if random.random() < 0.5:  # 50% chance of being a list\n",
    "            inner_length = random.randint(0, max_inner_length)\n",
    "            inner_list = [random.randint(-100, 100) for _ in range(inner_length)]\n",
    "            nested_list.append(inner_list)\n",
    "        else:  # 50% chance of being a number\n",
    "            nested_list.append(random.randint(-100, 100))\n",
    "    \n",
    "    return nested_list"
   ]
  },
  {
   "cell_type": "code",
   "execution_count": null,
   "metadata": {},
   "outputs": [],
   "source": []
  },
  {
   "cell_type": "code",
   "execution_count": 32,
   "metadata": {},
   "outputs": [
    {
     "data": {
      "text/plain": [
       "[-85, 61, [], []]"
      ]
     },
     "execution_count": 32,
     "metadata": {},
     "output_type": "execute_result"
    }
   ],
   "source": [
    "generate_random_nested_list()"
   ]
  },
  {
   "cell_type": "code",
   "execution_count": 41,
   "metadata": {},
   "outputs": [
    {
     "name": "stdout",
     "output_type": "stream",
     "text": [
      "nested_list :  [[-4], 80, 8, [-38, -4, -70, 57, 54], [7, -85, -36, 94], 95, -63, -89, -19, 57]\n",
      "flatten_list :  [-4, 80, 8, -38, -4, -70, 57, 54, 7, -85, -36, 94, 95, -63, -89, -19, 57]\n"
     ]
    }
   ],
   "source": [
    "nested_list = generate_random_nested_list()\n",
    "\n",
    "flatten_list = []\n",
    "\n",
    "for el in nested_list:\n",
    "    if isinstance(el, list):\n",
    "        flatten_list.extend([i for i in el])\n",
    "    elif isinstance(el,int):\n",
    "        flatten_list.append(el)\n",
    "\n",
    "print(\"nested_list : \",nested_list)\n",
    "print(\"flatten_list : \",flatten_list)"
   ]
  },
  {
   "cell_type": "code",
   "execution_count": null,
   "metadata": {},
   "outputs": [],
   "source": []
  }
 ],
 "metadata": {
  "kernelspec": {
   "display_name": ".venv",
   "language": "python",
   "name": "python3"
  },
  "language_info": {
   "codemirror_mode": {
    "name": "ipython",
    "version": 3
   },
   "file_extension": ".py",
   "mimetype": "text/x-python",
   "name": "python",
   "nbconvert_exporter": "python",
   "pygments_lexer": "ipython3",
   "version": "3.12.8"
  }
 },
 "nbformat": 4,
 "nbformat_minor": 2
}
